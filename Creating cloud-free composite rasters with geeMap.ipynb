{
 "cells": [
  {
   "cell_type": "markdown",
   "id": "41b56a22-e330-4f7b-b246-a8d78f1eb7f9",
   "metadata": {},
   "source": [
    "# Sentinel 2 AOI Cloud-free Compositing tool \n",
    "Author - Jeff Anderson\n",
    "\n",
    "The purpose of this tool is to:\n",
    "<ul>\n",
    "    <li>Authenticate and link a google account with GeeMap, so that the image can download straight to your google drive</li>\n",
    "    <li>Create a cloud-free composite image for the area of interest (aoi) from images within the date range</li>\n",
    "    <li>Download the composite image to your google drive</li>\n",
    "</ul>\n",
    "\n",
    "With additional time:\n",
    "<ul>\n",
    "    <li>Make it so that it makes a composite image from images representative closest to a central date, rather that earliest within a date range</li>\n",
    "    <li>Have it do multiple years at once</li>\n",
    "    <li>Add in the option of selecting several areas of interest</li>\n",
    "</ul>\n",
    "\n",
    "This first block loads required packages and authenticates and initiallizes google earth engine (gee or ee) "
   ]
  },
  {
   "cell_type": "code",
   "execution_count": null,
   "id": "845cbea3-137e-402b-b5a4-b630e33fe888",
   "metadata": {},
   "outputs": [],
   "source": [
    "import ee\n",
    "import geemap\n",
    "import os\n",
    "from datetime import datetime\n",
    "\n",
    "# Authenticate and initialize Earth Engine using geemap\n",
    "geemap.ee_initialize()\n",
    "ee.Authenticate()"
   ]
  },
  {
   "cell_type": "markdown",
   "id": "f3a06a99-346e-4266-b57b-21e651278219",
   "metadata": {},
   "source": [
    "This block: \n",
    "<ul>\n",
    "    <li>Defines the area of interest with a bounding box - [this tool helps create a bounding box](http://bboxfinder.com/#0.000000,0.000000,0.000000,0.000000)</li>\n",
    "    <li>Creates a mask for clouds</li>\n",
    "    <li>Creates a composite image to cover the full area of interest, and fills holes which were masked out due to clouds</li>\n",
    "    <li>Sets visable parameters and displayes the image for confirmation</li>\n",
    "</ul>\n",
    "\n"
   ]
  },
  {
   "cell_type": "code",
   "execution_count": null,
   "id": "93ca64c1-d29a-486e-a197-e1be5f7dd1bc",
   "metadata": {
    "scrolled": true
   },
   "outputs": [],
   "source": [
    "# Define an area of interest (AOI) as a GeoJSON-like dictionary\n",
    "aoi = ee.Geometry.Polygon([\n",
    "    [\n",
    "        [-125.195, 54.01],\n",
    "        [-125.195, 54.07],\n",
    "        [-125.03, 54.07],\n",
    "        [-125.03, 54.01],\n",
    "    ]\n",
    "])\n",
    "\n",
    "# Define a date range\n",
    "start_date = '2022-06-20'\n",
    "end_date = '2022-07-18'\n",
    "\n",
    "# Create an interactive map\n",
    "Map = geemap.Map(center=[54.043223, -125.117145], zoom=12)\n",
    "\n",
    "# Function to mask clouds using the SCL band\n",
    "def mask_clouds(image):\n",
    "    scl = image.select('SCL')\n",
    "    # Values indicating clear conditions\n",
    "    mask = scl.neq(3).And(scl.neq(8)).And(scl.neq(9)).And(scl.neq(10)).And(scl.neq(11))\n",
    "    return image.updateMask(mask)\n",
    "\n",
    "# Filter Sentinel-2 image collection for the date range and AOI\n",
    "collection = ee.ImageCollection('COPERNICUS/S2_SR') \\\n",
    "    .filterDate(start_date, end_date) \\\n",
    "    .filterBounds(aoi) \\\n",
    "    .map(mask_clouds) \\\n",
    "    .median()  # Create a median composite image\n",
    "\n",
    "# Clip the composite image to the AOI\n",
    "composite_image = collection.clip(aoi)\n",
    "\n",
    "\n",
    "\n",
    "# Visualize the image on the map\n",
    "vis_params = {\n",
    "    'bands': ['B4', 'B3', 'B2'],  # Red, Green, Blue bands\n",
    "    'min': 0,\n",
    "    'max': 3000,\n",
    "    'gamma': 1.4\n",
    "}\n",
    "\n",
    "Map.addLayer(composite_image, vis_params, 'Sentinel-2 Composite Image')\n",
    "\n",
    "# Display the map\n",
    "Map"
   ]
  },
  {
   "cell_type": "markdown",
   "id": "4db1a1dd-cb9e-431b-ab28-c7752bcafb71",
   "metadata": {},
   "source": [
    "This block: \n",
    "<ul>\n",
    "    <li>Strip date (or in this case year) to append to filename</li>\n",
    "    <li>Export the raster to your google drive</li>\n",
    "</ul>\n"
   ]
  },
  {
   "cell_type": "code",
   "execution_count": null,
   "id": "75147c1c-beb0-4113-9d37-ae5b1a932db1",
   "metadata": {},
   "outputs": [],
   "source": [
    "# Get the date range as the year for the filename\n",
    "start_year = datetime.strptime(start_date, '%Y-%m-%d').year\n",
    "end_year = datetime.strptime(end_date, '%Y-%m-%d').year\n",
    "year_range = f'{start_year}-{end_year}'\n",
    "\n",
    "# Define the output file parameters\n",
    "description = f'Endako_Sent2_{year_range}'\n",
    "folder = 'EarthEngineImages'  # Google Drive folder to save the image\n",
    "fileNamePrefix = f'Endako_Sent2_{year_range}'\n",
    "\n",
    "# Export the image to Google Drive\n",
    "geemap.ee_export_image_to_drive(\n",
    "    composite_image, \n",
    "    description=description, \n",
    "    folder=folder, \n",
    "    fileNamePrefix=fileNamePrefix, \n",
    "    scale=10, \n",
    "    region=aoi\n",
    ")\n",
    "\n",
    "print(f'Task started for exporting image to Google Drive: {description}')"
   ]
  }
 ],
 "metadata": {
  "kernelspec": {
   "display_name": "Python 3 (ipykernel)",
   "language": "python",
   "name": "python3"
  },
  "language_info": {
   "codemirror_mode": {
    "name": "ipython",
    "version": 3
   },
   "file_extension": ".py",
   "mimetype": "text/x-python",
   "name": "python",
   "nbconvert_exporter": "python",
   "pygments_lexer": "ipython3",
   "version": "3.9.19"
  }
 },
 "nbformat": 4,
 "nbformat_minor": 5
}
